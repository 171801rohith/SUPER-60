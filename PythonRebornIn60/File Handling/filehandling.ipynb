{
 "cells": [
  {
   "cell_type": "markdown",
   "id": "9f590379",
   "metadata": {},
   "source": [
    "<!-- Open File -->\n",
    "open(\"filename.txt\", \"mode\")"
   ]
  },
  {
   "cell_type": "code",
   "execution_count": null,
   "id": "0ea60fd8",
   "metadata": {},
   "outputs": [
    {
     "name": "stdout",
     "output_type": "stream",
     "text": [
      "Oh no, File not found\n"
     ]
    }
   ],
   "source": [
    "try:\n",
    "    with open('example.txt', 'r') as file:\n",
    "        content = file.read()\n",
    "        print(content)\n",
    "except:\n",
    "    print(\"Oh no, File not found\")        "
   ]
  },
  {
   "cell_type": "code",
   "execution_count": 6,
   "id": "c46c56f8",
   "metadata": {},
   "outputs": [],
   "source": [
    "with open(\"output.txt\", 'w') as file:\n",
    "    file.write(\"This is a test.\\n\")\n",
    "    file.write(\"Python is cool.\")"
   ]
  },
  {
   "cell_type": "code",
   "execution_count": 9,
   "id": "f53e1539",
   "metadata": {},
   "outputs": [],
   "source": [
    "with open('output.txt', 'a') as file:\n",
    "    file.write(\"\\nHey bro this appended.\")"
   ]
  },
  {
   "cell_type": "code",
   "execution_count": 25,
   "id": "edcdb549",
   "metadata": {},
   "outputs": [
    {
     "name": "stdout",
     "output_type": "stream",
     "text": [
      "This is the CSV file header ['Id', ' CustomerID']\n",
      "['1', ' 1']\n",
      "['2', ' 2']\n",
      "['3', ' 3']\n"
     ]
    }
   ],
   "source": [
    "import csv\n",
    "\n",
    "with open(\"data.csv\", 'r') as file:\n",
    "    reader = csv.reader(file)\n",
    "    header = next(reader)\n",
    "    print(f\"This is the CSV file header {header}\")\n",
    "    for row in reader:\n",
    "        print(row)"
   ]
  },
  {
   "cell_type": "markdown",
   "id": "ac5d7861",
   "metadata": {},
   "source": [
    "Exercise 1: Basic Implementation\n",
    "\n",
    "Task: Write a program that reads 'input.txt' and prints its content in uppercase."
   ]
  },
  {
   "cell_type": "code",
   "execution_count": 18,
   "id": "f47dc781",
   "metadata": {},
   "outputs": [
    {
     "name": "stdout",
     "output_type": "stream",
     "text": [
      "HELLO THIS IS WRITTEN IN LOWERCASE \n"
     ]
    }
   ],
   "source": [
    "try:\n",
    "    with open(\"input.txt\", 'r') as file:\n",
    "        content = file.read()\n",
    "        print(content.upper())\n",
    "except:\n",
    "    print(\"File not found in the directory.\")"
   ]
  },
  {
   "cell_type": "markdown",
   "id": "d1983846",
   "metadata": {},
   "source": [
    "Exercise 2: Intermediate Problem-Solving\n",
    "Task: Read 'students.csv' (format: “Name,Grade” like “John,85”), calculate the average grade, and write it to 'average.txt'.\n",
    " \n",
    "Instructions:\n",
    "Assume two columns: name and grade.\n",
    "Convert grades to integers, compute the average, and save it with a message.\n",
    "Expected Output: 'average.txt' contains “The average grade is 90.5” (or similar).\n",
    "Hint: Use csv.reader and sum the grades with a loop.\n",
    " "
   ]
  },
  {
   "cell_type": "code",
   "execution_count": 31,
   "id": "8640ced1",
   "metadata": {},
   "outputs": [
    {
     "name": "stdout",
     "output_type": "stream",
     "text": [
      "Done !!\n"
     ]
    }
   ],
   "source": [
    "import csv\n",
    "\n",
    "try:\n",
    "    with open(\"students.csv\", \"r\") as file:\n",
    "        reader = csv.reader(file)\n",
    "        total = 0\n",
    "        n = 0\n",
    "\n",
    "        try:\n",
    "            next(reader)\n",
    "        except Exception as e:\n",
    "            print(\"CSV is empty.\")\n",
    "        for row in reader:\n",
    "            try:\n",
    "                grade = int(row[1])\n",
    "            except ValueError as e:\n",
    "                print(\"Error: \", e)\n",
    "            total += grade\n",
    "            n += 1\n",
    "except:\n",
    "    print(\"File not found.\")\n",
    "\n",
    "    with open(\"average.txt\", \"w\") as file:\n",
    "        avg = total / n\n",
    "        file.write(f\"Teh average grade is {avg}.\")\n",
    "\n",
    "print(\"Done !!\")"
   ]
  }
 ],
 "metadata": {
  "kernelspec": {
   "display_name": "Python 3",
   "language": "python",
   "name": "python3"
  },
  "language_info": {
   "codemirror_mode": {
    "name": "ipython",
    "version": 3
   },
   "file_extension": ".py",
   "mimetype": "text/x-python",
   "name": "python",
   "nbconvert_exporter": "python",
   "pygments_lexer": "ipython3",
   "version": "3.12.6"
  }
 },
 "nbformat": 4,
 "nbformat_minor": 5
}
