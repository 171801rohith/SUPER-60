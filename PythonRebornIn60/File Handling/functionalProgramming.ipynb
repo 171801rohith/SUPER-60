{
 "cells": [
  {
   "cell_type": "markdown",
   "id": "0976d361",
   "metadata": {},
   "source": [
    "# Functional Programming"
   ]
  },
  {
   "cell_type": "markdown",
   "id": "be55c25e",
   "metadata": {},
   "source": [
    "1. Pure Functions:\n",
    "    - It always produces the same output for the same arguments.\n",
    "    - It does not change or modifies the input variable.\n",
    "\n",
    "2. Recursion:\n",
    "    - Base case: The condition that stops the recursion.\n",
    "    - Recursive case: The part where function calls itself with a modified input.\n",
    "\n",
    "3. Functions are First-Class:\n",
    "    - Can be assigned to a variable.\n",
    "    - can be passed as an arguement.\n",
    "    - Can be returned from a function.\n",
    "    - Can be stored in a data structure.\n",
    "\n",
    "4. Function can be Higher-order:\n",
    "    - Takes one or more functions as arguements.\n",
    "    - Returns a function as its result.\n",
    "    - Types of Higher-order Functions:\n",
    "        - Functions that take other functions as arguments:\n",
    "            - map \n",
    "            - filter\n",
    "            - reduce\n",
    "    - Functions that Return Other Functions:\n",
    "        - Factory Function\n",
    "        - Some Decorator\n",
    "\n",
    "5. Variable are Immutable. "
   ]
  },
  {
   "cell_type": "markdown",
   "id": "0ab4f342",
   "metadata": {},
   "source": [
    "## Difference between OOPS and Functional Programming"
   ]
  },
  {
   "cell_type": "markdown",
   "id": "0e88b295",
   "metadata": {},
   "source": [
    "Feature\t                OOP\t                                        Functional Programming\n",
    "Main unit\t            Object\t                                    Function\n",
    "State changes?\t        Yes (mutable state)\t                        No (immutable state preferred)\n",
    "Side effects?\t        Common\t                                    Avoided\n",
    "Code reuse\t            Inheritance, polymorphism\t                Composition, higher-order functions\n",
    "Example language        Java, C++, Python (supports both)\t        Haskell, Lisp, Python (supports both)\n"
   ]
  },
  {
   "cell_type": "code",
   "execution_count": 15,
   "id": "292efa41",
   "metadata": {},
   "outputs": [
    {
     "name": "stdout",
     "output_type": "stream",
     "text": [
      "[1, 2, 3, 4]\n",
      "[1, 4, 9, 16]\n"
     ]
    }
   ],
   "source": [
    "def pure_func(List):\n",
    "    new_list = []\n",
    "\n",
    "    for i in List:\n",
    "        new_list.append(i**2)\n",
    "    \n",
    "    return new_list\n",
    "\n",
    "list1 = [1, 2, 3, 4]\n",
    "print(list1)\n",
    "print(pure_func(list1))"
   ]
  },
  {
   "cell_type": "code",
   "execution_count": 16,
   "id": "c5143f24",
   "metadata": {},
   "outputs": [
    {
     "data": {
      "text/plain": [
       "720"
      ]
     },
     "execution_count": 16,
     "metadata": {},
     "output_type": "execute_result"
    }
   ],
   "source": [
    "def factorial(n):\n",
    "    if n == 0:\n",
    "        return 1\n",
    "    return n * factorial(n - 1)\n",
    "\n",
    "factorial(6)"
   ]
  },
  {
   "cell_type": "code",
   "execution_count": 17,
   "id": "ab11174e",
   "metadata": {},
   "outputs": [
    {
     "name": "stdout",
     "output_type": "stream",
     "text": [
      "0\n",
      "1\n",
      "1\n",
      "2\n",
      "3\n",
      "5\n"
     ]
    }
   ],
   "source": [
    "def fibonacci(n):\n",
    "    if n < 0:\n",
    "        return \"Number should be greater than zero.\"\n",
    "    if n == 0:\n",
    "        return 0\n",
    "    elif n == 1:\n",
    "        return 1\n",
    "    else:\n",
    "        return fibonacci(n - 1) + fibonacci(n - 2)\n",
    "    \n",
    "\n",
    "for i in range(6):\n",
    "    print(fibonacci(i))"
   ]
  },
  {
   "cell_type": "code",
   "execution_count": 18,
   "id": "6c222db2",
   "metadata": {},
   "outputs": [
    {
     "name": "stdout",
     "output_type": "stream",
     "text": [
      "Hell0, Yayha\n"
     ]
    }
   ],
   "source": [
    "def greet(name):\n",
    "    return f\"Hell0, {name}\"\n",
    "\n",
    "say_hi = greet\n",
    "\n",
    "print(say_hi(\"Yayha\"))"
   ]
  },
  {
   "cell_type": "code",
   "execution_count": 19,
   "id": "fd1c3323",
   "metadata": {},
   "outputs": [],
   "source": [
    "def apply_function(func, value):\n",
    "    return func(value)\n",
    "\n",
    "def double(x) :\n",
    "    return x * 2"
   ]
  },
  {
   "cell_type": "code",
   "execution_count": 20,
   "id": "3a4513ef",
   "metadata": {},
   "outputs": [
    {
     "name": "stdout",
     "output_type": "stream",
     "text": [
      "12\n"
     ]
    }
   ],
   "source": [
    "def create_multiplier(n):\n",
    "    def multiplier(x):\n",
    "        return x * n\n",
    "    return multiplier\n",
    "\n",
    "three = create_multiplier(3)\n",
    "print(three(4))"
   ]
  },
  {
   "cell_type": "code",
   "execution_count": 21,
   "id": "acf85968",
   "metadata": {},
   "outputs": [
    {
     "name": "stdout",
     "output_type": "stream",
     "text": [
      "5\n",
      "1\n"
     ]
    }
   ],
   "source": [
    "def add(a, b):\n",
    "    return a + b\n",
    "\n",
    "def substract(a, b):\n",
    "    return a - b\n",
    "\n",
    "operations = [add, substract]\n",
    "\n",
    "print(operations[0](3, 2))\n",
    "print(operations[1](3, 2))"
   ]
  },
  {
   "cell_type": "markdown",
   "id": "71d61c14",
   "metadata": {},
   "source": [
    "## Problem\n",
    "Write a function operate that takes two numbers and a function as arguments,then applies the function to the numbers\n",
    "Test it with a function that multiplies two numbers"
   ]
  },
  {
   "cell_type": "code",
   "execution_count": 48,
   "id": "152f2a89",
   "metadata": {},
   "outputs": [
    {
     "name": "stdout",
     "output_type": "stream",
     "text": [
      "200\n"
     ]
    }
   ],
   "source": [
    "def operate(a: int, b: int, func):\n",
    "    return func(a, b)\n",
    "\n",
    "def multiply(a, b):\n",
    "    return a * b\n",
    "\n",
    "print(operate(10, 20, multiply))"
   ]
  },
  {
   "cell_type": "code",
   "execution_count": null,
   "id": "bbef61ba",
   "metadata": {},
   "outputs": [
    {
     "ename": "TypeError",
     "evalue": "'list' object is not callable",
     "output_type": "error",
     "traceback": [
      "\u001b[31m---------------------------------------------------------------------------\u001b[39m",
      "\u001b[31mTypeError\u001b[39m                                 Traceback (most recent call last)",
      "\u001b[36mCell\u001b[39m\u001b[36m \u001b[39m\u001b[32mIn[49]\u001b[39m\u001b[32m, line 5\u001b[39m\n\u001b[32m      2\u001b[39m     \u001b[38;5;28;01mreturn\u001b[39;00m x * x\n\u001b[32m      4\u001b[39m numbers = [\u001b[32m1\u001b[39m, \u001b[32m2\u001b[39m, \u001b[32m3\u001b[39m, \u001b[32m4\u001b[39m]\n\u001b[32m----> \u001b[39m\u001b[32m5\u001b[39m squared_number = \u001b[38;5;28;43mlist\u001b[39;49m\u001b[43m(\u001b[49m\u001b[38;5;28;43mmap\u001b[39;49m\u001b[43m(\u001b[49m\u001b[43msquare\u001b[49m\u001b[43m,\u001b[49m\u001b[43m \u001b[49m\u001b[43mnumbers\u001b[49m\u001b[43m)\u001b[49m\u001b[43m)\u001b[49m\n\u001b[32m      6\u001b[39m \u001b[38;5;28mprint\u001b[39m(squared_number)\n",
      "\u001b[31mTypeError\u001b[39m: 'list' object is not callable"
     ]
    }
   ],
   "source": []
  },
  {
   "cell_type": "code",
   "execution_count": null,
   "id": "fefc5cf9",
   "metadata": {},
   "outputs": [],
   "source": []
  }
 ],
 "metadata": {
  "kernelspec": {
   "display_name": "Python 3",
   "language": "python",
   "name": "python3"
  },
  "language_info": {
   "codemirror_mode": {
    "name": "ipython",
    "version": 3
   },
   "file_extension": ".py",
   "mimetype": "text/x-python",
   "name": "python",
   "nbconvert_exporter": "python",
   "pygments_lexer": "ipython3",
   "version": "3.12.6"
  }
 },
 "nbformat": 4,
 "nbformat_minor": 5
}
